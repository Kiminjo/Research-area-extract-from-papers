{
 "cells": [
  {
   "cell_type": "code",
   "execution_count": 2,
   "source": [
    "import plotly.express as px\n",
    "import numpy as np\n",
    "import pandas as pd\n",
    "from tqdm import tqdm"
   ],
   "outputs": [],
   "metadata": {}
  },
  {
   "cell_type": "markdown",
   "source": [
    "---"
   ],
   "metadata": {}
  },
  {
   "cell_type": "markdown",
   "source": [
    "# 1. 데이터 불러오기 "
   ],
   "metadata": {}
  },
  {
   "cell_type": "code",
   "execution_count": 3,
   "source": [
    "data = pd.read_csv('data/clustered_data.csv', encoding='unicode_escape')\n",
    "topic_data = pd.read_csv('data/topic_per_doc.csv')"
   ],
   "outputs": [],
   "metadata": {}
  },
  {
   "cell_type": "code",
   "execution_count": 4,
   "source": [
    "# 클러스터의 null값을 0으로 채워주기 \n",
    "data['Clsuter=40'].fillna(0, inplace=True)"
   ],
   "outputs": [],
   "metadata": {}
  },
  {
   "cell_type": "markdown",
   "source": [
    "---"
   ],
   "metadata": {}
  },
  {
   "cell_type": "markdown",
   "source": [
    "# 2. 문서별 토픽 할당 "
   ],
   "metadata": {}
  },
  {
   "cell_type": "markdown",
   "source": [
    "## 2-1. 토픽 분포 확인 "
   ],
   "metadata": {}
  },
  {
   "cell_type": "code",
   "execution_count": null,
   "source": [
    "topic_data.iloc[0, :].describe()"
   ],
   "outputs": [],
   "metadata": {}
  },
  {
   "cell_type": "code",
   "execution_count": null,
   "source": [
    "for doc_idx in range(len(data)-1) :\n",
    "    print('0.11이상의 토픽 할당도 갯수 : {}'.format(sum(topic_data.iloc[doc_idx, :] > 0.1)))"
   ],
   "outputs": [],
   "metadata": {}
  },
  {
   "cell_type": "markdown",
   "source": [
    "- 특정 문서에서 0.01 이상 할당된 토픽은 해당 문서의 토픽이라고 보기로 결정 \n",
    "- 0.1로 할시 대부분 1-2의 값으로 너무 적은 토픽 갯수 할당\n",
    "- 0.05로 할 경우 3-7개의 적당한 토픽 수를 가지나 몇몇 문서는 0개의 토픽을 가지므로 부적절 <br></br>\n",
    "\n",
    "- 추가\n",
    "    - 0.01로 진행 시 클러스터별로 토픽의 수가 너무 많음\n",
    "    - 0.05나 0.1로 조정해야할 필요를 느낌 "
   ],
   "metadata": {}
  },
  {
   "cell_type": "markdown",
   "source": [
    "## 2-2. 토픽 할당 "
   ],
   "metadata": {}
  },
  {
   "cell_type": "code",
   "execution_count": null,
   "source": [
    "# 문서별 토픽 딕셔너리 만들기 \n",
    "doc_topic_dict = {}\n",
    "\n",
    "for row_idx, row in tqdm(topic_data.iterrows()) :\n",
    "    topic_percentage = {}\n",
    "    meaning_elements = row[row>0.01]\n",
    "    \n",
    "    for i, v in meaning_elements.items() :\n",
    "        topic_percentage[int(i[5:])] = v\n",
    "    doc_topic_dict[row_idx] = topic_percentage"
   ],
   "outputs": [],
   "metadata": {}
  },
  {
   "cell_type": "code",
   "execution_count": null,
   "source": [
    "# 트리맵 구현용 데이터프레임 만들기 \n",
    "df = []\n",
    "\n",
    "for k1, dict_ in doc_topic_dict.items() :\n",
    "    for k2, v2 in dict_.items() :\n",
    "        row = []\n",
    "        row.append(k1)\n",
    "        row.append(k2)\n",
    "        row.append(data.loc[k1, 'Clsuter=40'])\n",
    "        row.append('project')\n",
    "        row.append(v2)\n",
    "        row.append(0)\n",
    "        df.append(row)\n",
    "\n",
    "df = pd.DataFrame(df, columns=['doc_index', 'topic', 'cluster', 'project', 'topic_percentage', 'cluster_count'])\n",
    "\n",
    "# 클러스터의 null값 40으로 채우기 \n",
    "df.cluster.fillna(40, inplace=True)"
   ],
   "outputs": [],
   "metadata": {}
  },
  {
   "cell_type": "code",
   "execution_count": null,
   "source": [
    "# 클러스터 갯수 구하기\n",
    "cluster_list = list(data['Clsuter=40'].fillna(40))\n",
    "cluster_count_dict = {}\n",
    "\n",
    "for cluster in cluster_list: \n",
    "    cluster_count_dict[int(cluster)] = cluster_list.count(cluster)\n",
    "\n",
    "cluster_count_dict = {k : v for k, v in cluster_count_dict.items()}\n",
    "\n",
    "# df에 클러스터 갯수 데이터 입력 \n",
    "\n",
    "# 클러스터명 형식 변경\n",
    "# 기존 float형\n",
    "# 변경 'cluster' + str(int형)\n",
    "\n",
    "for row_idx in tqdm(range(len(df))) :\n",
    "    df.loc[row_idx, 'cluster_count'] = cluster_count_dict[int(df.loc[row_idx, 'cluster'])]\n",
    "    df.loc[row_idx, 'cluster'] = 'cluster' + str(int(df.loc[row_idx, 'cluster']))"
   ],
   "outputs": [],
   "metadata": {}
  },
  {
   "cell_type": "markdown",
   "source": [
    "## 2-3. 클러스터-토픽 행렬 만들기 \n",
    "\n",
    "- 클러스터별 토픽의 비중을 파악하기 위해 클러스터-토픽 행렬을 만들기 \n",
    "- 토픽-문서 벡터 : topic_data\n",
    "- 클러스터-문서 벡터 : data 변수 사용하여 행렬 만들기 \n"
   ],
   "metadata": {}
  },
  {
   "cell_type": "code",
   "execution_count": 4,
   "source": [
    "cluster_data = np.zeros((len(data), 40))\n",
    "\n",
    "for idx, value in enumerate(data['Clsuter=40']) :\n",
    "    cluster_data[idx, int(value)] += 1"
   ],
   "outputs": [],
   "metadata": {}
  },
  {
   "cell_type": "markdown",
   "source": [
    "---"
   ],
   "metadata": {}
  },
  {
   "cell_type": "markdown",
   "source": [
    "# 3. Tree map 시각화"
   ],
   "metadata": {}
  },
  {
   "cell_type": "code",
   "execution_count": null,
   "source": [
    "fig = px.treemap(df, path=['project', 'cluster', 'topic'],\n",
    "                values='topic_percentage')\n",
    "                \n",
    "fig.show()"
   ],
   "outputs": [],
   "metadata": {}
  },
  {
   "cell_type": "markdown",
   "source": [
    "---"
   ],
   "metadata": {}
  },
  {
   "cell_type": "markdown",
   "source": [
    "# 4. Dash 연동"
   ],
   "metadata": {}
  },
  {
   "cell_type": "code",
   "execution_count": null,
   "source": [
    "import dash\n",
    "import dash_core_components as dcc\n",
    "import dash_html_components as html"
   ],
   "outputs": [],
   "metadata": {}
  },
  {
   "cell_type": "code",
   "execution_count": null,
   "source": [
    "app = dash.Dash()\n",
    "app.layout = html.Div([\n",
    "                dcc.Graph(figure=fig)\n",
    "])"
   ],
   "outputs": [],
   "metadata": {}
  },
  {
   "cell_type": "code",
   "execution_count": null,
   "source": [
    "app.run_server(debug=True, use_reloader=False)"
   ],
   "outputs": [],
   "metadata": {}
  },
  {
   "cell_type": "markdown",
   "source": [
    "---"
   ],
   "metadata": {}
  },
  {
   "cell_type": "markdown",
   "source": [
    "# 5. Chart studio 활용하여 웹용 링크 만들기"
   ],
   "metadata": {}
  },
  {
   "cell_type": "code",
   "execution_count": null,
   "source": [
    "import chart_studio\n",
    "from chart_studio.plotly import plot, iplot"
   ],
   "outputs": [],
   "metadata": {}
  },
  {
   "cell_type": "code",
   "execution_count": null,
   "source": [
    "chart_studio.tools.set_credentials_file(username='injokim', api_key='ZAsiIjcDIzXdYHa8CXbw')"
   ],
   "outputs": [],
   "metadata": {}
  },
  {
   "cell_type": "code",
   "execution_count": null,
   "source": [
    "plot(fig, filename = 'treemap', auto_open=True)"
   ],
   "outputs": [],
   "metadata": {}
  },
  {
   "cell_type": "markdown",
   "source": [
    "---"
   ],
   "metadata": {}
  },
  {
   "cell_type": "markdown",
   "source": [
    "# 6. 질문 사항\n",
    "\n",
    "## 6-1. 클러스터 박스의 크기가 실제 클러스터의 비율을 의미할까요?\n",
    "- 본 treemap에서 사용된 데이터는 문서별 토픽 비율 하나밖에 없음  \n",
    "- 클러스터의 비율이 시각화에 반영되지 않았을 가능성이 있음 <br></br>\n",
    "\n",
    "- 시각화 결과 cluster 4, 3, 33이 가장 큰 크기를 차지함\n",
    "- 실제 비율 확인 결과 해당 클러스터들이 높은 비중을 차지하는지 확인해보기 "
   ],
   "metadata": {}
  },
  {
   "cell_type": "code",
   "execution_count": 13,
   "source": [
    "counter = []\n",
    "for i in range(40) :\n",
    "   count_ = []\n",
    "   count_.append(i)\n",
    "   count_.append(list(data['Clsuter=40']).count(i))\n",
    "   counter.append(count_) \n",
    "\n",
    "counter = pd.DataFrame(counter, columns=['index', 'count'])"
   ],
   "outputs": [],
   "metadata": {}
  },
  {
   "cell_type": "code",
   "execution_count": 17,
   "source": [
    "counter.sort_values(by=['count'], ascending=False).head()"
   ],
   "outputs": [
    {
     "output_type": "execute_result",
     "data": {
      "text/plain": [
       "    index  count\n",
       "4       4    242\n",
       "33     33    169\n",
       "3       3    158\n",
       "22     22    157\n",
       "8       8    148"
      ],
      "text/html": [
       "<div>\n",
       "<style scoped>\n",
       "    .dataframe tbody tr th:only-of-type {\n",
       "        vertical-align: middle;\n",
       "    }\n",
       "\n",
       "    .dataframe tbody tr th {\n",
       "        vertical-align: top;\n",
       "    }\n",
       "\n",
       "    .dataframe thead th {\n",
       "        text-align: right;\n",
       "    }\n",
       "</style>\n",
       "<table border=\"1\" class=\"dataframe\">\n",
       "  <thead>\n",
       "    <tr style=\"text-align: right;\">\n",
       "      <th></th>\n",
       "      <th>index</th>\n",
       "      <th>count</th>\n",
       "    </tr>\n",
       "  </thead>\n",
       "  <tbody>\n",
       "    <tr>\n",
       "      <th>4</th>\n",
       "      <td>4</td>\n",
       "      <td>242</td>\n",
       "    </tr>\n",
       "    <tr>\n",
       "      <th>33</th>\n",
       "      <td>33</td>\n",
       "      <td>169</td>\n",
       "    </tr>\n",
       "    <tr>\n",
       "      <th>3</th>\n",
       "      <td>3</td>\n",
       "      <td>158</td>\n",
       "    </tr>\n",
       "    <tr>\n",
       "      <th>22</th>\n",
       "      <td>22</td>\n",
       "      <td>157</td>\n",
       "    </tr>\n",
       "    <tr>\n",
       "      <th>8</th>\n",
       "      <td>8</td>\n",
       "      <td>148</td>\n",
       "    </tr>\n",
       "  </tbody>\n",
       "</table>\n",
       "</div>"
      ]
     },
     "metadata": {},
     "execution_count": 17
    }
   ],
   "metadata": {}
  },
  {
   "cell_type": "markdown",
   "source": [
    "- 확인 결과, 실제 분포에서도 4번, 33번, 3번등 시각화에서 두드러졌던 클러스터들의 갯수가 많은 것을 확인 \n",
    "- 그냥 그대로 시각화하면 될듯함 "
   ],
   "metadata": {}
  },
  {
   "cell_type": "markdown",
   "source": [],
   "metadata": {}
  }
 ],
 "metadata": {
  "orig_nbformat": 4,
  "language_info": {
   "name": "python",
   "version": "3.7.0",
   "mimetype": "text/x-python",
   "codemirror_mode": {
    "name": "ipython",
    "version": 3
   },
   "pygments_lexer": "ipython3",
   "nbconvert_exporter": "python",
   "file_extension": ".py"
  },
  "kernelspec": {
   "name": "python3",
   "display_name": "Python 3.7.0 64-bit ('doc2vec': conda)"
  },
  "interpreter": {
   "hash": "296995ab533eae10d490584248b79ada23467e80bc96c2808d815d4fa3dc86ff"
  }
 },
 "nbformat": 4,
 "nbformat_minor": 2
}